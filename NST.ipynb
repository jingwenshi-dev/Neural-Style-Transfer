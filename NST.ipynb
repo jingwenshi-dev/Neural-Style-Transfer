{
 "cells": [
  {
   "cell_type": "code",
   "execution_count": 1,
   "id": "initial_id",
   "metadata": {
    "collapsed": true,
    "ExecuteTime": {
     "end_time": "2023-10-23T16:42:10.889211Z",
     "start_time": "2023-10-23T16:42:09.611845Z"
    }
   },
   "outputs": [],
   "source": [
    "import torch\n",
    "import torch.nn as nn\n",
    "from torch.nn.functional import mse_loss\n",
    "import torch.optim as optim\n",
    "from torchvision import transforms\n",
    "import torchvision.models as models\n",
    "from torchvision.models import VGG19_Weights"
   ]
  },
  {
   "cell_type": "code",
   "execution_count": null,
   "outputs": [],
   "source": [
    "device = torch.device(\"cuda\" if torch.cuda.is_available() else \"mps\")\n",
    "torch.set_default_device(device)"
   ],
   "metadata": {
    "collapsed": false
   },
   "id": "c032035ade11e493"
  },
  {
   "cell_type": "markdown",
   "source": [
    "### Content Loss"
   ],
   "metadata": {
    "collapsed": false
   },
   "id": "29956995aa39f94e"
  },
  {
   "cell_type": "code",
   "execution_count": 2,
   "outputs": [],
   "source": [
    "class ContentLoss(nn.Module):\n",
    "\n",
    "    def __init__(self, target):\n",
    "        super(ContentLoss, self).__init__()\n",
    "        self.target = target.detach()\n",
    "        self.loss = None\n",
    "\n",
    "    def forward(self, input):\n",
    "        self.loss = mse_loss(input, self.target)\n",
    "        return input"
   ],
   "metadata": {
    "collapsed": false,
    "ExecuteTime": {
     "end_time": "2023-10-23T16:42:12.137496Z",
     "start_time": "2023-10-23T16:42:12.132930Z"
    }
   },
   "id": "94f1a90183d2627"
  },
  {
   "cell_type": "markdown",
   "source": [
    "### Style Loss"
   ],
   "metadata": {
    "collapsed": false
   },
   "id": "6923436051ee4c01"
  },
  {
   "cell_type": "code",
   "execution_count": null,
   "outputs": [],
   "source": [
    "class StyleLoss(nn.Module):\n",
    "\n",
    "    def __init__(self, target_feature):\n",
    "        super(StyleLoss, self).__init__()\n",
    "        self.target = self.gram_matrix(target_feature).detach()\n",
    "        self.loss = None\n",
    "\n",
    "    def gram_matrix(self, input):\n",
    "        a, b, c, d = input.size()\n",
    "        features = input.view(a * b, c * d) \n",
    "        G = torch.mm(features, features.t())\n",
    "        return G.div(a * b * c * d)\n",
    "\n",
    "    def forward(self, input):\n",
    "        self.loss = mse_loss(self.gram_matrix(input), self.target)\n",
    "        return input"
   ],
   "metadata": {
    "collapsed": false
   },
   "id": "3f406a8b3fe89222"
  },
  {
   "cell_type": "markdown",
   "source": [
    "### Normalization"
   ],
   "metadata": {
    "collapsed": false
   },
   "id": "706a39f0febcbcad"
  },
  {
   "cell_type": "code",
   "execution_count": null,
   "outputs": [],
   "source": [
    "class Normalization(nn.Module):\n",
    "\n",
    "    def __init__(self):\n",
    "        super(Normalization, self).__init__()\n",
    "\n",
    "        cnn_normalization_mean = torch.tensor([0.485, 0.456, 0.406])\n",
    "        cnn_normalization_std = torch.tensor([0.229, 0.224, 0.225])\n",
    "\n",
    "        self.mean = torch.tensor(cnn_normalization_mean).view(-1, 1, 1)\n",
    "        self.std = torch.tensor(cnn_normalization_std).view(-1, 1, 1)\n",
    "\n",
    "    def forward(self, img):\n",
    "        return (img - self.mean) / self.std"
   ],
   "metadata": {
    "collapsed": false
   },
   "id": "7ea467a3e026ef1e"
  },
  {
   "cell_type": "code",
   "execution_count": null,
   "outputs": [],
   "source": [
    "vgg19 = models.vgg19(weights=VGG19_Weights.DEFAULT).features.eval()\n",
    "\n",
    "content_layers_default = ['conv_4']\n",
    "style_layers_default = ['conv_1', 'conv_2', 'conv_3', 'conv_4', 'conv_5']"
   ],
   "metadata": {
    "collapsed": false
   },
   "id": "93d473180d481012"
  }
 ],
 "metadata": {
  "kernelspec": {
   "display_name": "Python 3",
   "language": "python",
   "name": "python3"
  },
  "language_info": {
   "codemirror_mode": {
    "name": "ipython",
    "version": 2
   },
   "file_extension": ".py",
   "mimetype": "text/x-python",
   "name": "python",
   "nbconvert_exporter": "python",
   "pygments_lexer": "ipython2",
   "version": "2.7.6"
  }
 },
 "nbformat": 4,
 "nbformat_minor": 5
}
